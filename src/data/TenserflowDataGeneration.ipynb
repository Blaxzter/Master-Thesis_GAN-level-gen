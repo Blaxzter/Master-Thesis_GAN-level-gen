{
 "cells": [
  {
   "cell_type": "code",
   "execution_count": 1,
   "metadata": {
    "collapsed": true
   },
   "outputs": [],
   "source": [
    "# The contents of this files are based on the tensor flow data creation tutorial\n",
    "# https://www.tensorflow.org/tutorials/load_data/tfrecord\n",
    "\n",
    "import tensorflow as tf\n",
    "from level.LevelReader import LevelReader\n",
    "from pathlib import Path\n"
   ]
  },
  {
   "cell_type": "code",
   "execution_count": 2,
   "outputs": [],
   "source": [
    "# The following functions can be used to convert a value to a type compatible\n",
    "# with tf.train.Example.\n",
    "\n",
    "def _bytes_feature(value):\n",
    "  \"\"\"Returns a bytes_list from a string / byte.\"\"\"\n",
    "  if isinstance(value, type(tf.constant(0))):\n",
    "    value = value.numpy() # BytesList won't unpack a string from an EagerTensor.\n",
    "  return tf.train.Feature(bytes_list=tf.train.BytesList(value=[value]))\n",
    "\n",
    "def _float_feature(value):\n",
    "  \"\"\"Returns a float_list from a float / double.\"\"\"\n",
    "  return tf.train.Feature(float_list=tf.train.FloatList(value=[value]))\n",
    "\n",
    "def _int64_feature(value):\n",
    "  \"\"\"Returns an int64_list from a bool / enum / int / uint.\"\"\"\n",
    "  return tf.train.Feature(int64_list=tf.train.Int64List(value=[value]))"
   ],
   "metadata": {
    "collapsed": false,
    "pycharm": {
     "name": "#%%\n"
    }
   }
  },
  {
   "cell_type": "code",
   "execution_count": 3,
   "outputs": [],
   "source": [
    "def image_example(image_string, label):\n",
    "  image_shape = tf.io.decode_jpeg(image_string).shape\n",
    "\n",
    "  feature = {\n",
    "      'height': _int64_feature(image_shape[0]),\n",
    "      'width': _int64_feature(image_shape[1]),\n",
    "      'depth': _int64_feature(image_shape[2]),\n",
    "      'label': _int64_feature(label),\n",
    "      'image_raw': _bytes_feature(image_string),\n",
    "  }\n",
    "\n",
    "  return tf.train.Example(features=tf.train.Features(feature=feature))"
   ],
   "metadata": {
    "collapsed": false,
    "pycharm": {
     "name": "#%%\n"
    }
   }
  },
  {
   "cell_type": "code",
   "execution_count": 5,
   "outputs": [
    {
     "name": "stderr",
     "output_type": "stream",
     "text": [
      "usage: ipykernel_launcher.py [-h] [--generator GENERATOR]\n",
      "                             [--level_amount LEVEL_AMOUNT]\n",
      "                             [--level_path LEVEL_PATH]\n",
      "                             [--game_folder_path GAME_FOLDER_PATH]\n",
      "                             [--ai_path AI_PATH] [--rescue_level RESCUE_LEVEL]\n",
      "                             [--evaluate EVALUATE]\n",
      "ipykernel_launcher.py: error: unrecognized arguments: -f C:\\Users\\Blaxzter\\AppData\\Roaming\\jupyter\\runtime\\kernel-b1ddef90-589f-4b7b-a858-de8faee9b9c8.json\n"
     ]
    },
    {
     "ename": "SystemExit",
     "evalue": "2",
     "output_type": "error",
     "traceback": [
      "An exception has occurred, use %tb to see the full traceback.\n",
      "\u001B[1;31mSystemExit\u001B[0m\u001B[1;31m:\u001B[0m 2\n"
     ]
    }
   ],
   "source": [
    "from level.LevelVisualizer import LevelVisualizer\n",
    "from level.Level import Level\n",
    "from GameManagement.GameConnection import GameConnection\n",
    "import os\n",
    "from util.Config import Config\n",
    "from GameManagement.GameManager import GameManager\n",
    "from util import ProgramArguments\n",
    "\n",
    "parser = ProgramArguments.get_program_arguments()\n",
    "config = parser.parse_args()\n",
    "config.game_folder_path = os.path.normpath('../science_birds/{os}')\n",
    "\n",
    "config = Config(config)\n",
    "game_connection = GameConnection(conf = config)\n",
    "game_manager = GameManager(conf = config, game_connection = game_connection)\n",
    "level_reader = LevelReader()\n",
    "\n",
    "game_manager.start_game()\n",
    "data_dict = dict()\n",
    "\n",
    "for original_data_level in sorted(Path(\"train/generated/\").glob('*.xml')):\n",
    "    parsed_level = level_reader.parse_level(str(original_data_level), blocks = True, pigs = True, platform = True)\n",
    "    parsed_level.filter_slingshot_platform()\n",
    "\n",
    "    parsed_level.normalize()\n",
    "    parsed_level.create_polygons()\n",
    "    level_structures = parsed_level.separate_structures()\n",
    "    level_visualizer = LevelVisualizer()\n",
    "\n",
    "    level_counter = 0\n",
    "    for idx, structure in enumerate(level_structures):\n",
    "        meta_data = Level.calc_structure_meta_data(structure)\n",
    "        struct_doc = level_reader.create_level_from_structure(\n",
    "            structure = structure,\n",
    "            level = parsed_level,\n",
    "            move_to_ground = True\n",
    "        )\n",
    "        new_level_path = f'../data/train/structures/level-0{level_counter + 4}.xml'\n",
    "        level_reader.write_xml_file(struct_doc, new_level_path)\n",
    "        game_manager.change_level(path = new_level_path)\n",
    "\n",
    "        new_level = level_reader.parse_level(new_level_path, use_platform = True)\n",
    "        new_level.normalize()\n",
    "        new_level.create_polygons()\n",
    "        new_level.filter_slingshot_platform()\n",
    "        new_level.separate_structures()\n",
    "\n",
    "        game_connection.create_level_img(structure = True)\n",
    "        game_connection.startAi(start_level = level_counter, end_level = level_counter)\n",
    "        ret_pictures = new_level.create_img(per_structure = True, dot_version = True)\n",
    "        game_connection.wait_till_all_level_played()\n",
    "        game_connection.stopAI()\n",
    "        new_level_data = game_connection.get_data()\n",
    "        data_dict[f'{original_data_level}_{level_counter}'] = dict(\n",
    "            meta_data = meta_data,\n",
    "            game_data = new_level_data,\n",
    "            img_data = ret_pictures\n",
    "        )\n",
    "        level_counter += 1"
   ],
   "metadata": {
    "collapsed": false,
    "pycharm": {
     "name": "#%%\n"
    }
   }
  },
  {
   "cell_type": "code",
   "execution_count": null,
   "outputs": [],
   "source": [
    "record_file = 'images.tfrecords'\n",
    "with tf.io.TFRecordWriter(record_file) as writer:\n",
    "  for filename, label in image_labels.items():\n",
    "    image_string = open(filename, 'rb').read()\n",
    "    tf_example = image_example(image_string, label)\n",
    "    writer.write(tf_example.SerializeToString())"
   ],
   "metadata": {
    "collapsed": false,
    "pycharm": {
     "name": "#%%\n"
    }
   }
  }
 ],
 "metadata": {
  "kernelspec": {
   "display_name": "Python 3",
   "language": "python",
   "name": "python3"
  },
  "language_info": {
   "codemirror_mode": {
    "name": "ipython",
    "version": 2
   },
   "file_extension": ".py",
   "mimetype": "text/x-python",
   "name": "python",
   "nbconvert_exporter": "python",
   "pygments_lexer": "ipython2",
   "version": "2.7.6"
  }
 },
 "nbformat": 4,
 "nbformat_minor": 0
}