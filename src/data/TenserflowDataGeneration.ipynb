{
 "cells": [
  {
   "cell_type": "code",
   "execution_count": 1,
   "metadata": {
    "collapsed": true
   },
   "outputs": [],
   "source": [
    "# The contents of this files are based on the tensor flow data creation tutorial\n",
    "# https://www.tensorflow.org/tutorials/load_data/tfrecord\n",
    "\n",
    "import tensorflow as tf\n",
    "from level.LevelReader import LevelReader\n",
    "from pathlib import Path\n"
   ]
  },
  {
   "cell_type": "code",
   "execution_count": 2,
   "outputs": [],
   "source": [
    "# The following functions can be used to convert a value to a type compatible\n",
    "# with tf.train.Example.\n",
    "\n",
    "def _bytes_feature(value):\n",
    "  \"\"\"Returns a bytes_list from a string / byte.\"\"\"\n",
    "  if isinstance(value, type(tf.constant(0))):\n",
    "    value = value.numpy() # BytesList won't unpack a string from an EagerTensor.\n",
    "  return tf.train.Feature(bytes_list=tf.train.BytesList(value=[value]))\n",
    "\n",
    "def _float_feature(value):\n",
    "  \"\"\"Returns a float_list from a float / double.\"\"\"\n",
    "  return tf.train.Feature(float_list=tf.train.FloatList(value=[value]))\n",
    "\n",
    "def _int64_feature(value):\n",
    "  \"\"\"Returns an int64_list from a bool / enum / int / uint.\"\"\"\n",
    "  return tf.train.Feature(int64_list=tf.train.Int64List(value=[value]))"
   ],
   "metadata": {
    "collapsed": false,
    "pycharm": {
     "name": "#%%\n"
    }
   }
  },
  {
   "cell_type": "code",
   "execution_count": 3,
   "outputs": [],
   "source": [
    "def image_example(image_string, label):\n",
    "  image_shape = tf.io.decode_jpeg(image_string).shape\n",
    "\n",
    "  feature = {\n",
    "      'height': _int64_feature(image_shape[0]),\n",
    "      'width': _int64_feature(image_shape[1]),\n",
    "      'depth': _int64_feature(image_shape[2]),\n",
    "      'label': _int64_feature(label),\n",
    "      'image_raw': _bytes_feature(image_string),\n",
    "  }\n",
    "\n",
    "  return tf.train.Example(features=tf.train.Features(feature=feature))"
   ],
   "metadata": {
    "collapsed": false,
    "pycharm": {
     "name": "#%%\n"
    }
   }
  },
  {
   "cell_type": "code",
   "execution_count": null,
   "outputs": [],
   "source": [
    "from GameManagement.GameConnection import GameConnection\n",
    "import os\n",
    "from util.Config import Config\n",
    "from GameManagement.GameManager import GameManager\n",
    "from util import ProgramArguments\n",
    "\n",
    "parser = ProgramArguments.get_program_arguments()\n",
    "config = parser.parse_args()\n",
    "config.game_folder_path = os.path.normpath('../science_birds/{os}')\n",
    "\n",
    "config = Config(config)\n",
    "game_connection = GameConnection(conf = config)\n",
    "game_manager = GameManager(conf = config, game_connection = game_connection)\n",
    "game_manager.start_game()\n",
    "\n",
    "data_dict = dict()\n",
    "\n",
    "for level in sorted(Path(\"train/generated/\").glob('*.xml')):\n",
    "    level_reader = LevelReader(str(level))\n",
    "    parsed_level = level_reader.parse_level(str(level), blocks = True, pigs = True, platform = True)\n",
    "    parsed_level.filter_slingshot_platform()\n",
    "\n",
    "    level_idx = level.name.strip('level-').strip('.xml')\n",
    "\n",
    "    parsed_level.normalize()\n",
    "    parsed_level.create_polygons()\n",
    "    level_structures = parsed_level.separate_structures()\n",
    "\n",
    "    structure_data = dict()\n",
    "    for idx, structure in enumerate(level_structures):\n",
    "        current_structure_data = parsed_level.calc_structure_meta_data(structure)\n",
    "        if structure_data.pig_amount == 0:\n",
    "            continue\n",
    "        xml_file = level_reader.create_level_from_structure(structure, move_to_ground = True)\n",
    "        structure_data[idx] = dict(\n",
    "            meta_data = current_structure_data,\n",
    "            file = xml_file\n",
    "        )\n",
    "\n",
    "    game_connection.startAi(start_level = level_idx, end_level = level_idx)\n",
    "\n",
    "    structure_imgs = parsed_level.create_img(per_structure = True, dot_version = True)\n",
    "    game_connection.wait_till_all_level_played()\n",
    "    data = game_connection.get_data()"
   ],
   "metadata": {
    "collapsed": false,
    "pycharm": {
     "name": "#%%\n"
    }
   }
  },
  {
   "cell_type": "code",
   "execution_count": null,
   "outputs": [],
   "source": [
    "record_file = 'images.tfrecords'\n",
    "with tf.io.TFRecordWriter(record_file) as writer:\n",
    "  for filename, label in image_labels.items():\n",
    "    image_string = open(filename, 'rb').read()\n",
    "    tf_example = image_example(image_string, label)\n",
    "    writer.write(tf_example.SerializeToString())"
   ],
   "metadata": {
    "collapsed": false,
    "pycharm": {
     "name": "#%%\n"
    }
   }
  }
 ],
 "metadata": {
  "kernelspec": {
   "display_name": "Python 3",
   "language": "python",
   "name": "python3"
  },
  "language_info": {
   "codemirror_mode": {
    "name": "ipython",
    "version": 2
   },
   "file_extension": ".py",
   "mimetype": "text/x-python",
   "name": "python",
   "nbconvert_exporter": "python",
   "pygments_lexer": "ipython2",
   "version": "2.7.6"
  }
 },
 "nbformat": 4,
 "nbformat_minor": 0
}